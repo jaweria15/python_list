{
 "cells": [
  {
   "cell_type": "markdown",
   "id": "97fd2937",
   "metadata": {},
   "source": [
    "### 1. List Comprehension\n",
    "List comprehensions provide a concise way to create lists."
   ]
  },
  {
   "cell_type": "code",
   "execution_count": 1,
   "id": "1b55a059",
   "metadata": {},
   "outputs": [
    {
     "name": "stdout",
     "output_type": "stream",
     "text": [
      "[1, 4, 9, 16, 25, 36, 49, 64, 81, 100]\n"
     ]
    }
   ],
   "source": [
    "squares = [x**2 for x in range(1, 11)]\n",
    "print(squares)"
   ]
  },
  {
   "cell_type": "markdown",
   "id": "508eda68",
   "metadata": {},
   "source": [
    "### 2. Flatten a Nested List\n",
    "If you have a list of lists and want to flatten it:"
   ]
  },
  {
   "cell_type": "code",
   "execution_count": 2,
   "id": "9be975b7",
   "metadata": {},
   "outputs": [
    {
     "name": "stdout",
     "output_type": "stream",
     "text": [
      "[1, 2, 3, 4, 5, 6, 7, 8]\n"
     ]
    }
   ],
   "source": [
    "nested_list = [[1, 2, 3], [4, 5], [6, 7, 8]]\n",
    "flattened = [item for sublist in nested_list for item in sublist]\n",
    "print(flattened)"
   ]
  },
  {
   "cell_type": "markdown",
   "id": "1fdd0708",
   "metadata": {},
   "source": [
    "### 3. Remove Duplicates from a List\n",
    "Convert a list to a \"set\" to remove duplicates, then back to a list:"
   ]
  },
  {
   "cell_type": "code",
   "execution_count": 3,
   "id": "989b64ea",
   "metadata": {},
   "outputs": [
    {
     "name": "stdout",
     "output_type": "stream",
     "text": [
      "[1, 2, 3, 4, 5]\n"
     ]
    }
   ],
   "source": [
    "my_list = [1, 2, 2, 3, 4, 4, 5]\n",
    "unique_list = list(set(my_list))\n",
    "print(unique_list)"
   ]
  },
  {
   "cell_type": "markdown",
   "id": "4fb59c0c",
   "metadata": {},
   "source": [
    "### 4. Reverse a List\n",
    "You can reverse a list using slicing:"
   ]
  },
  {
   "cell_type": "code",
   "execution_count": 4,
   "id": "65fa230b",
   "metadata": {},
   "outputs": [
    {
     "name": "stdout",
     "output_type": "stream",
     "text": [
      "[5, 4, 3, 2, 1]\n"
     ]
    }
   ],
   "source": [
    "my_list = [1, 2, 3, 4, 5]\n",
    "reversed_list = my_list[::-1]\n",
    "print(reversed_list)"
   ]
  },
  {
   "cell_type": "markdown",
   "id": "7a26d408",
   "metadata": {},
   "source": [
    "### 5. Zip Multiple Lists\n",
    "The zip() function pairs elements from multiple lists together."
   ]
  },
  {
   "cell_type": "code",
   "execution_count": 5,
   "id": "8f10adbb",
   "metadata": {},
   "outputs": [
    {
     "name": "stdout",
     "output_type": "stream",
     "text": [
      "[('Alice', 85), ('Bob', 90), ('Charlie', 95)]\n"
     ]
    }
   ],
   "source": [
    "names = ['Alice', 'Bob', 'Charlie']\n",
    "scores = [85, 90, 95]\n",
    "zipped = list(zip(names, scores))\n",
    "print(zipped)"
   ]
  },
  {
   "cell_type": "markdown",
   "id": "cb1e24e4",
   "metadata": {},
   "source": [
    "### 6. Find the Index of an Element\n",
    "Use index() to find the position of an element in a list:"
   ]
  },
  {
   "cell_type": "code",
   "execution_count": 6,
   "id": "7792f09b",
   "metadata": {},
   "outputs": [
    {
     "name": "stdout",
     "output_type": "stream",
     "text": [
      "2\n"
     ]
    }
   ],
   "source": [
    "my_list = ['a', 'b', 'c', 'd']\n",
    "print(my_list.index('c'))"
   ]
  },
  {
   "cell_type": "markdown",
   "id": "888d36e3",
   "metadata": {},
   "source": [
    "### 7. List Slicing\n",
    "Extract a portion of a list using slicing."
   ]
  },
  {
   "cell_type": "code",
   "execution_count": 7,
   "id": "623575e1",
   "metadata": {},
   "outputs": [
    {
     "name": "stdout",
     "output_type": "stream",
     "text": [
      "[20, 30, 40]\n"
     ]
    }
   ],
   "source": [
    "my_list = [10, 20, 30, 40, 50]\n",
    "sub_list = my_list[1:4]\n",
    "print(sub_list)"
   ]
  },
  {
   "cell_type": "markdown",
   "id": "d37a147f",
   "metadata": {},
   "source": [
    "### 8. Extend a List\n",
    "You can use the extend() method to add multiple elements to a list."
   ]
  },
  {
   "cell_type": "code",
   "execution_count": 8,
   "id": "c63f2618",
   "metadata": {},
   "outputs": [
    {
     "name": "stdout",
     "output_type": "stream",
     "text": [
      "[1, 2, 3, 4, 5]\n"
     ]
    }
   ],
   "source": [
    "my_list = [1, 2, 3]\n",
    "my_list.extend([4, 5])\n",
    "print(my_list)"
   ]
  },
  {
   "cell_type": "markdown",
   "id": "20ed9401",
   "metadata": {},
   "source": [
    "## 9. Check if a List is Empty\n",
    "Use an if statement to check if a list is empty."
   ]
  },
  {
   "cell_type": "code",
   "execution_count": 9,
   "id": "9bdb3b9f",
   "metadata": {},
   "outputs": [
    {
     "name": "stdout",
     "output_type": "stream",
     "text": [
      "The list is empty!\n"
     ]
    }
   ],
   "source": [
    "my_list = []\n",
    "if not my_list:\n",
    "    print(\"The list is empty!\")"
   ]
  },
  {
   "cell_type": "markdown",
   "id": "cf3f193c",
   "metadata": {},
   "source": [
    "### 10. Sort a List\n",
    "You can sort a list using 'sort()' or 'sorted()."
   ]
  },
  {
   "cell_type": "code",
   "execution_count": 10,
   "id": "2f618bfc",
   "metadata": {},
   "outputs": [
    {
     "name": "stdout",
     "output_type": "stream",
     "text": [
      "[1, 2, 3, 4, 5]\n",
      "[1, 2, 3, 4, 5]\n"
     ]
    }
   ],
   "source": [
    "my_list = [3, 1, 4, 2, 5]\n",
    "my_list.sort()  # sorts in-place\n",
    "print(my_list)\n",
    "\n",
    "# Alternatively\n",
    "sorted_list = sorted(my_list)  # returns a sorted copy\n",
    "print(sorted_list)\n"
   ]
  },
  {
   "cell_type": "markdown",
   "id": "3c2dd875",
   "metadata": {},
   "source": [
    "### 11. We Can use * to combine list\n",
    "The * operator can be used to unpack and combine multiple lists."
   ]
  },
  {
   "cell_type": "code",
   "execution_count": 11,
   "id": "534a6cc2",
   "metadata": {},
   "outputs": [
    {
     "name": "stdout",
     "output_type": "stream",
     "text": [
      "[1, 2, 3, 4]\n"
     ]
    }
   ],
   "source": [
    "a=[1,2]\n",
    "b={3,4}\n",
    "lst=[*a,*b]\n",
    "print(lst)"
   ]
  },
  {
   "cell_type": "markdown",
   "id": "72b86380",
   "metadata": {},
   "source": [
    "### 12. We Can use * to unpack lists\n",
    "The * operator can also unpack lists into individual variables."
   ]
  },
  {
   "cell_type": "code",
   "execution_count": 12,
   "id": "e3a7d5d4",
   "metadata": {},
   "outputs": [
    {
     "name": "stdout",
     "output_type": "stream",
     "text": [
      "Jaweria\n",
      "20\n",
      "['Biryani', 'ice cream', 'chai']\n"
     ]
    }
   ],
   "source": [
    "intro=[\"Jaweria\",20,\"Biryani\",\"ice cream\",\"chai\"]\n",
    "name,age,*fvrt_dish =intro\n",
    "print(name)\n",
    "print(age)\n",
    "print(fvrt_dish)"
   ]
  },
  {
   "cell_type": "markdown",
   "id": "41a7645f",
   "metadata": {},
   "source": [
    "### 13. zip() to iterate through 2 lists\n",
    "The zip() function can be used to iterate over two lists simultaneously."
   ]
  },
  {
   "cell_type": "code",
   "execution_count": 13,
   "id": "419be47e",
   "metadata": {},
   "outputs": [
    {
     "name": "stdout",
     "output_type": "stream",
     "text": [
      "apple 10\n",
      "mango 20\n",
      "grapes 30\n",
      "banana 40\n"
     ]
    }
   ],
   "source": [
    "fruits=[\"apple\",\"mango\",\"grapes\",\"banana\"]\n",
    "price=[10,20,30,40]\n",
    "for f , p in zip(fruits,price):\n",
    "    print(f,p)"
   ]
  },
  {
   "cell_type": "markdown",
   "id": "ac75e52b",
   "metadata": {},
   "source": [
    "### 14. enumerate() to generate both index and value during iteration\n",
    "The enumerate() function helps generate both the index and value during iteration."
   ]
  },
  {
   "cell_type": "code",
   "execution_count": 14,
   "id": "4d6814eb",
   "metadata": {
    "scrolled": true
   },
   "outputs": [
    {
     "name": "stdout",
     "output_type": "stream",
     "text": [
      "0 apple\n",
      "1 mango\n",
      "2 grapes\n",
      "3 banana\n"
     ]
    }
   ],
   "source": [
    "fruits=[\"apple\",\"mango\",\"grapes\",\"banana\"]\n",
    "for index , fruit in enumerate(fruits):\n",
    "    print(index,fruit)\n"
   ]
  },
  {
   "cell_type": "code",
   "execution_count": null,
   "id": "dceaded2",
   "metadata": {},
   "outputs": [],
   "source": []
  }
 ],
 "metadata": {
  "kernelspec": {
   "display_name": "Python 3 (ipykernel)",
   "language": "python",
   "name": "python3"
  },
  "language_info": {
   "codemirror_mode": {
    "name": "ipython",
    "version": 3
   },
   "file_extension": ".py",
   "mimetype": "text/x-python",
   "name": "python",
   "nbconvert_exporter": "python",
   "pygments_lexer": "ipython3",
   "version": "3.11.5"
  }
 },
 "nbformat": 4,
 "nbformat_minor": 5
}
